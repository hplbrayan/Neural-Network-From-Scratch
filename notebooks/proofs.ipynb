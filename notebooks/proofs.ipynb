{
 "cells": [
  {
   "cell_type": "markdown",
   "metadata": {},
   "source": [
    "# Libraties + config"
   ]
  },
  {
   "cell_type": "code",
   "execution_count": 4,
   "metadata": {},
   "outputs": [],
   "source": [
    "import sys\n",
    "import os\n",
    "\n",
    "import numpy as np \n",
    "import pandas as pd\n",
    "from sklearn.preprocessing import StandardScaler\n",
    "import matplotlib.pyplot as plt\n",
    "\n",
    "project_root = os.path.abspath(os.path.join(os.getcwd(), \"..\"))\n",
    "sys.path.append(project_root)\n"
   ]
  },
  {
   "cell_type": "code",
   "execution_count": 30,
   "metadata": {},
   "outputs": [],
   "source": [
    "from importlib import reload\n",
    "\n",
    "import neuralnetwork.neuralNetwork as neuralnetwork\n",
    "import activations.elu as elu\n",
    "import activations.gelu as gelu\n",
    "import activations.identity as identity\n",
    "import activations.lrelu as lrelu\n",
    "import activations.relu as relu\n",
    "import activations.sigmoid as sigmoid\n",
    "import activations.tanh as tanh\n",
    "\n",
    "import losses.mse as mse\n",
    "import optimizers.gd as gd\n",
    "\n",
    "import plot_utils.plot_utils as plot\n",
    "\n",
    "# updates changes\n",
    "reload(neuralnetwork), reload(elu), reload(gelu), reload(identity), reload(lrelu), reload(relu), reload(sigmoid), reload(tanh)\n",
    "reload(plot), reload (mse), reload(gd)\n",
    "\n",
    "from neuralnetwork.neuralNetwork import NeuralNetWork\n",
    "from activations.elu import ELU\n",
    "from activations.gelu import GELU\n",
    "from activations.identity import Identity\n",
    "from activations.lrelu import LReLU\n",
    "from activations.relu import ReLU\n",
    "from activations.sigmoid import Sigmoid\n",
    "from activations.tanh import Tanh\n",
    "\n",
    "from losses.mse import MSE\n",
    "from optimizers.gd import GradientDescent\n",
    "\n",
    "from plot_utils.plot_utils import plot_af"
   ]
  },
  {
   "cell_type": "code",
   "execution_count": 51,
   "metadata": {},
   "outputs": [],
   "source": [
    "font = {'family' : 'DejaVu Sans',\n",
    "        'weight' : 'bold',\n",
    "        'size'   : 20}\n",
    "\n",
    "font_leg = {'family' : 'DejaVu Sans',\n",
    "            'weight' : 'bold',\n",
    "            'size'   : 15}"
   ]
  },
  {
   "cell_type": "code",
   "execution_count": null,
   "metadata": {},
   "outputs": [],
   "source": []
  },
  {
   "cell_type": "markdown",
   "metadata": {},
   "source": [
    "# Implemetation of the Neural Network"
   ]
  },
  {
   "cell_type": "markdown",
   "metadata": {},
   "source": [
    "#### Data"
   ]
  },
  {
   "cell_type": "code",
   "execution_count": 5,
   "metadata": {},
   "outputs": [
    {
     "data": {
      "text/plain": [
       "(array([[-0.9512918 , -0.88430407, -0.99896853],\n",
       "        [-0.66865251, -0.5685715 , -0.99896853],\n",
       "        [-1.30459092, -1.63058106, -0.99896853],\n",
       "        ...,\n",
       "        [-0.24469358,  0.06289365,  0.11424235],\n",
       "        [-0.10337393, -0.08062116,  0.11424235],\n",
       "        [-0.10337393,  0.34992326,  0.11424235]]),\n",
       " (1067, 3))"
      ]
     },
     "execution_count": 5,
     "metadata": {},
     "output_type": "execute_result"
    }
   ],
   "source": [
    "path = 'https://s3-api.us-geo.objectstorage.softlayer.net/cf-courses-data/CognitiveClass/ML0101ENv3/labs/FuelConsumptionCo2.csv'\n",
    "df = pd.read_csv(path)\n",
    "\n",
    "# A little cleaning\n",
    "# Columns\n",
    "df.columns = df.columns.str.replace(\"-|/\", \"_\", regex=True)\n",
    "\n",
    "# nulls\n",
    "df.dropna(inplace=True)\n",
    "df.reset_index(drop=True, inplace=True)\n",
    "\n",
    "\"\"\"\n",
    "Xx = df[[\"ENGINESIZE\", \"FUELCONSUMPTION_COMB\", \"CYLINDERS\"]].values\n",
    "y  = df[[\"CO2EMISSIONS\"]].values\n",
    "\"\"\"\n",
    "#\"\"\"\n",
    "X = StandardScaler().fit_transform(df[[\"ENGINESIZE\", \"FUELCONSUMPTION_COMB\", \"CYLINDERS\"]])\n",
    "y = StandardScaler().fit_transform(df[[\"CO2EMISSIONS\"]]).reshape(-1,1)\n",
    "\n",
    "#\"\"\"\n",
    "X, X.shape"
   ]
  },
  {
   "cell_type": "code",
   "execution_count": null,
   "metadata": {},
   "outputs": [],
   "source": []
  },
  {
   "cell_type": "markdown",
   "metadata": {},
   "source": [
    "#### Neural network architecture design"
   ]
  },
  {
   "cell_type": "code",
   "execution_count": 69,
   "metadata": {},
   "outputs": [
    {
     "data": {
      "text/plain": [
       "{'0': (3, None),\n",
       " '1': (128, 3),\n",
       " '2': (64, 128),\n",
       " '3': (32, 64),\n",
       " '4': (32, 32),\n",
       " '5': (1, 32)}"
      ]
     },
     "execution_count": 69,
     "metadata": {},
     "output_type": "execute_result"
    }
   ],
   "source": [
    "# Init the Nn\n",
    "nn = NeuralNetWork(input_shape=(None, X.shape[1]))\n",
    "nn.input_shape\n",
    "\n",
    "# Activations to use\n",
    "relu = ReLU()\n",
    "iden = Identity()\n",
    "\n",
    "# architecture\n",
    "nn.add(128, relu)\n",
    "nn.add(64,  relu)\n",
    "nn.add(32,  relu)\n",
    "nn.add(32,  relu)\n",
    "nn.add(1,   iden)\n",
    "\n",
    "# Then each layer has the following shape\n",
    "nn.layer_shapes"
   ]
  },
  {
   "cell_type": "code",
   "execution_count": 70,
   "metadata": {},
   "outputs": [
    {
     "data": {
      "text/plain": [
       "(array([[-0.03021235,  0.07713249, -0.00128824, ..., -0.00353889,\n",
       "          0.09759454,  0.0673882 ],\n",
       "        [-0.02530327,  0.00280996,  0.00718881, ...,  0.08803957,\n",
       "          0.00797247,  0.03216079],\n",
       "        [-0.01543768,  0.02195904, -0.0444756 , ...,  0.00952235,\n",
       "         -0.07676238, -0.02843675],\n",
       "        ...,\n",
       "        [ 0.01406296,  0.06391656,  0.07263746, ...,  0.08351142,\n",
       "          0.03563104,  0.00076041],\n",
       "        [-0.04863847,  0.004435  ,  0.00120194, ...,  0.04881809,\n",
       "         -0.08247181,  0.03153625],\n",
       "        [-0.0478264 ,  0.08480478,  0.04281012, ...,  0.08505414,\n",
       "         -0.06160647,  0.01519159]]),\n",
       " (64, 128))"
      ]
     },
     "execution_count": 70,
     "metadata": {},
     "output_type": "execute_result"
    }
   ],
   "source": [
    "# Weights in t l-th layer\n",
    "l = 2\n",
    "nn.weights[f'w_{l}'], nn.weights[f'w_{l}'].shape"
   ]
  },
  {
   "cell_type": "code",
   "execution_count": null,
   "metadata": {},
   "outputs": [],
   "source": []
  },
  {
   "cell_type": "markdown",
   "metadata": {},
   "source": [
    "##### Compiling and training"
   ]
  },
  {
   "cell_type": "code",
   "execution_count": 71,
   "metadata": {},
   "outputs": [],
   "source": [
    "# compile\n",
    "nn.compile_model(loss=MSE(),\n",
    "                 optimizer=GradientDescent(eta=0.1))"
   ]
  },
  {
   "cell_type": "code",
   "execution_count": 72,
   "metadata": {},
   "outputs": [
    {
     "name": "stdout",
     "output_type": "stream",
     "text": [
      "Epoch 1/30, Loss: 14.61834914\n",
      "Epoch 2/30, Loss: 8.93731189\n",
      "Epoch 3/30, Loss: 4.41931356\n",
      "Epoch 4/30, Loss: 3.72142694\n",
      "Epoch 5/30, Loss: 3.49359019\n",
      "Epoch 6/30, Loss: 3.31150440\n",
      "Epoch 7/30, Loss: 3.18005911\n",
      "Epoch 8/30, Loss: 3.09751694\n",
      "Epoch 9/30, Loss: 3.03244998\n",
      "Epoch 10/30, Loss: 2.93137833\n",
      "Epoch 11/30, Loss: 2.84816790\n",
      "Epoch 12/30, Loss: 2.71774583\n",
      "Epoch 13/30, Loss: 2.71798592\n",
      "Epoch 14/30, Loss: 2.63181767\n",
      "Epoch 15/30, Loss: 2.58577871\n",
      "Epoch 16/30, Loss: 2.58665936\n",
      "Epoch 17/30, Loss: 2.54269982\n",
      "Epoch 18/30, Loss: 2.50561205\n",
      "Epoch 19/30, Loss: 2.51592621\n",
      "Epoch 20/30, Loss: 2.49424054\n",
      "Epoch 21/30, Loss: 2.47808807\n",
      "Epoch 22/30, Loss: 2.47718964\n",
      "Epoch 23/30, Loss: 2.46944955\n",
      "Epoch 24/30, Loss: 2.45559453\n",
      "Epoch 25/30, Loss: 2.45360467\n",
      "Epoch 26/30, Loss: 2.43507646\n",
      "Epoch 27/30, Loss: 2.42810204\n",
      "Epoch 28/30, Loss: 2.40669455\n",
      "Epoch 29/30, Loss: 2.40020362\n",
      "Epoch 30/30, Loss: 2.39427548\n"
     ]
    }
   ],
   "source": [
    "# training\n",
    "nn.fit(X=X, y=y, batch_size=32, epochs=30)"
   ]
  },
  {
   "cell_type": "code",
   "execution_count": null,
   "metadata": {},
   "outputs": [],
   "source": []
  },
  {
   "cell_type": "markdown",
   "metadata": {},
   "source": [
    "#### Metrics"
   ]
  },
  {
   "cell_type": "code",
   "execution_count": 73,
   "metadata": {},
   "outputs": [
    {
     "data": {
      "image/png": "[encoded data removed]",
      "text/plain": [
       "<Figure size 432x288 with 1 Axes>"
      ]
     },
     "metadata": {
      "needs_background": "light"
     },
     "output_type": "display_data"
    }
   ],
   "source": [
    "fig, ax = plt.subplots()\n",
    "\n",
    "loss_average = np.mean(np.reshape(nn.losses, (nn.epochs, -1)), axis=1)\n",
    "ax.plot(loss_average, c=\"k\", lw=2)\n",
    "\n",
    "ax.set_xlim(0, len(loss_average)-1)\n",
    "ax.set_xticks(range(1, len(loss_average)), range(1,len(loss_average)))\n",
    "\n",
    "ax.grid()\n",
    "plt.tight_layout()\n",
    "plt.show()"
   ]
  },
  {
   "cell_type": "code",
   "execution_count": null,
   "metadata": {},
   "outputs": [],
   "source": []
  },
  {
   "cell_type": "markdown",
   "metadata": {},
   "source": [
    "#### Predictions"
   ]
  },
  {
   "cell_type": "code",
   "execution_count": 74,
   "metadata": {},
   "outputs": [],
   "source": [
    "#pred\n",
    "n, i = 0, 150\n",
    "pred = nn.predict(X[n:n+i])"
   ]
  },
  {
   "cell_type": "code",
   "execution_count": 75,
   "metadata": {},
   "outputs": [
    {
     "data": {
      "image/png": "[encoded data removed]",
      "text/plain": [
       "<Figure size 504x504 with 1 Axes>"
      ]
     },
     "metadata": {
      "needs_background": "light"
     },
     "output_type": "display_data"
    }
   ],
   "source": [
    "fig, ax = plt.subplots(figsize=(7,7))\n",
    "\n",
    "# pred vs real\n",
    "ax.scatter(x=y[n:n+i],\n",
    "           y=pred[:,[0][0]],\n",
    "           s=50, c=\"r\", edgecolor='black')\n",
    "\n",
    "# y=x\n",
    "ax.plot(np.linspace(min(y[n:n+i]), max(y[n:n+i])),\n",
    "        np.linspace(min(y[n:n+i]), max(y[n:n+i])),\n",
    "        lw=2, c=\"k\", label=r\"$y_{real} = \\hat y$\")\n",
    "\n",
    "# custum\n",
    "ax.set_xlim(min(y[n:n+i]), max(y[n:n+i]))\n",
    "\n",
    "ax.set_xlabel(\"y (real)\", fontdict=font_leg)\n",
    "ax.set_ylabel(r\"$\\hat y$\", fontdict=font)\n",
    "plt.legend(frameon=False, ncol=3, prop=font_leg)\n",
    "ax.grid()\n",
    "plt.tight_layout()\n",
    "plt.show()"
   ]
  },
  {
   "cell_type": "code",
   "execution_count": null,
   "metadata": {},
   "outputs": [],
   "source": []
  }
 ],
 "metadata": {
  "kernelspec": {
   "display_name": "Python 3",
   "language": "python",
   "name": "python3"
  },
  "language_info": {
   "codemirror_mode": {
    "name": "ipython",
    "version": 3
   },
   "file_extension": ".py",
   "mimetype": "text/x-python",
   "name": "python",
   "nbconvert_exporter": "python",
   "pygments_lexer": "ipython3",
   "version": "3.10.12"
  }
 },
 "nbformat": 4,
 "nbformat_minor": 2
}
