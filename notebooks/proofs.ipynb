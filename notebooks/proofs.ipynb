{
 "cells": [
  {
   "cell_type": "markdown",
   "metadata": {},
   "source": [
    "# Libraties + config"
   ]
  },
  {
   "cell_type": "code",
   "execution_count": 4,
   "metadata": {},
   "outputs": [],
   "source": [
    "import sys\n",
    "import os\n",
    "\n",
    "import numpy as np \n",
    "import pandas as pd\n",
    "from sklearn.preprocessing import StandardScaler\n",
    "import matplotlib.pyplot as plt\n",
    "\n",
    "project_root = os.path.abspath(os.path.join(os.getcwd(), \"..\"))\n",
    "sys.path.append(project_root)\n"
   ]
  },
  {
   "cell_type": "code",
   "execution_count": 30,
   "metadata": {},
   "outputs": [],
   "source": [
    "from importlib import reload\n",
    "\n",
    "import neuralnetwork.neuralNetwork as neuralnetwork\n",
    "import activations.elu as elu\n",
    "import activations.gelu as gelu\n",
    "import activations.identity as identity\n",
    "import activations.lrelu as lrelu\n",
    "import activations.relu as relu\n",
    "import activations.sigmoid as sigmoid\n",
    "import activations.tanh as tanh\n",
    "\n",
    "import losses.mse as mse\n",
    "import optimizers.gd as gd\n",
    "\n",
    "import plot_utils.plot_utils as plot\n",
    "\n",
    "# updates changes\n",
    "reload(neuralnetwork), reload(elu), reload(gelu), reload(identity), reload(lrelu), reload(relu), reload(sigmoid), reload(tanh)\n",
    "reload(plot), reload (mse), reload(gd)\n",
    "\n",
    "from neuralnetwork.neuralNetwork import NeuralNetWork\n",
    "from activations.elu import ELU\n",
    "from activations.gelu import GELU\n",
    "from activations.identity import Identity\n",
    "from activations.lrelu import LReLU\n",
    "from activations.relu import ReLU\n",
    "from activations.sigmoid import Sigmoid\n",
    "from activations.tanh import Tanh\n",
    "\n",
    "from losses.mse import MSE\n",
    "from optimizers.gd import GradientDescent\n",
    "\n",
    "from plot_utils.plot_utils import plot_af"
   ]
  },
  {
   "cell_type": "code",
   "execution_count": 51,
   "metadata": {},
   "outputs": [],
   "source": [
    "font = {'family' : 'DejaVu Sans',\n",
    "        'weight' : 'bold',\n",
    "        'size'   : 20}\n",
    "\n",
    "font_leg = {'family' : 'DejaVu Sans',\n",
    "            'weight' : 'bold',\n",
    "            'size'   : 15}"
   ]
  },
  {
   "cell_type": "code",
   "execution_count": null,
   "metadata": {},
   "outputs": [],
   "source": []
  },
  {
   "cell_type": "markdown",
   "metadata": {},
   "source": [
    "# Implemetation of the Neural Network"
   ]
  },
  {
   "cell_type": "markdown",
   "metadata": {},
   "source": [
    "#### Data"
   ]
  },
  {
   "cell_type": "code",
   "execution_count": 5,
   "metadata": {},
   "outputs": [
    {
     "data": {
      "text/plain": [
       "(array([[-0.9512918 , -0.88430407, -0.99896853],\n",
       "        [-0.66865251, -0.5685715 , -0.99896853],\n",
       "        [-1.30459092, -1.63058106, -0.99896853],\n",
       "        ...,\n",
       "        [-0.24469358,  0.06289365,  0.11424235],\n",
       "        [-0.10337393, -0.08062116,  0.11424235],\n",
       "        [-0.10337393,  0.34992326,  0.11424235]]),\n",
       " (1067, 3))"
      ]
     },
     "execution_count": 5,
     "metadata": {},
     "output_type": "execute_result"
    }
   ],
   "source": [
    "path = 'https://s3-api.us-geo.objectstorage.softlayer.net/cf-courses-data/CognitiveClass/ML0101ENv3/labs/FuelConsumptionCo2.csv'\n",
    "df = pd.read_csv(path)\n",
    "\n",
    "# A little cleaning\n",
    "# Columns\n",
    "df.columns = df.columns.str.replace(\"-|/\", \"_\", regex=True)\n",
    "\n",
    "# nulls\n",
    "df.dropna(inplace=True)\n",
    "df.reset_index(drop=True, inplace=True)\n",
    "\n",
    "\"\"\"\n",
    "Xx = df[[\"ENGINESIZE\", \"FUELCONSUMPTION_COMB\", \"CYLINDERS\"]].values\n",
    "y  = df[[\"CO2EMISSIONS\"]].values\n",
    "\"\"\"\n",
    "#\"\"\"\n",
    "X = StandardScaler().fit_transform(df[[\"ENGINESIZE\", \"FUELCONSUMPTION_COMB\", \"CYLINDERS\"]])\n",
    "y = StandardScaler().fit_transform(df[[\"CO2EMISSIONS\"]]).reshape(-1,1)\n",
    "\n",
    "#\"\"\"\n",
    "X, X.shape"
   ]
  },
  {
   "cell_type": "code",
   "execution_count": null,
   "metadata": {},
   "outputs": [],
   "source": []
  },
  {
   "cell_type": "markdown",
   "metadata": {},
   "source": [
    "#### Neural network architecture design"
   ]
  },
  {
   "cell_type": "code",
   "execution_count": 38,
   "metadata": {},
   "outputs": [
    {
     "data": {
      "text/plain": [
       "{'0': (3, None),\n",
       " '1': (128, 3),\n",
       " '2': (64, 128),\n",
       " '3': (32, 64),\n",
       " '4': (32, 32),\n",
       " '5': (1, 32)}"
      ]
     },
     "execution_count": 38,
     "metadata": {},
     "output_type": "execute_result"
    }
   ],
   "source": [
    "# Init the Nn\n",
    "nn = NeuralNetWork(input_shape=(None, X.shape[1]))\n",
    "nn.input_shape\n",
    "\n",
    "# Activations to use\n",
    "relu = ReLU()\n",
    "iden = Identity()\n",
    "\n",
    "# architecture\n",
    "nn.add(128, relu)\n",
    "nn.add(64,  relu)\n",
    "nn.add(32,  relu)\n",
    "nn.add(32,  relu)\n",
    "nn.add(1,   iden)\n",
    "\n",
    "# Then each layer has the following shape\n",
    "nn.layer_shapes"
   ]
  },
  {
   "cell_type": "code",
   "execution_count": 39,
   "metadata": {},
   "outputs": [
    {
     "data": {
      "text/plain": [
       "(array([[-0.05471999,  0.06063172, -0.04148613, ..., -0.01146904,\n",
       "         -0.01526793, -0.07677828],\n",
       "        [-0.03856327, -0.06972978,  0.06867942, ..., -0.0669591 ,\n",
       "          0.00754357, -0.02029866],\n",
       "        [ 0.09460651, -0.02389308, -0.07326505, ...,  0.05917788,\n",
       "          0.04646275, -0.00760537],\n",
       "        ...,\n",
       "        [-0.08245634,  0.05143961, -0.03539257, ..., -0.03392127,\n",
       "         -0.01574041,  0.01994566],\n",
       "        [-0.02172457, -0.02406918, -0.00188714, ..., -0.00648364,\n",
       "          0.06522286,  0.00213707],\n",
       "        [-0.07083239, -0.0821359 , -0.04839573, ..., -0.04979037,\n",
       "          0.05623173,  0.00583862]]),\n",
       " (64, 128))"
      ]
     },
     "execution_count": 39,
     "metadata": {},
     "output_type": "execute_result"
    }
   ],
   "source": [
    "# Weights in t l-th layer\n",
    "l = 2\n",
    "nn.weights[f'w_{l}'], nn.weights[f'w_{l}'].shape"
   ]
  },
  {
   "cell_type": "code",
   "execution_count": null,
   "metadata": {},
   "outputs": [],
   "source": []
  },
  {
   "cell_type": "markdown",
   "metadata": {},
   "source": [
    "##### Compiling and training"
   ]
  },
  {
   "cell_type": "code",
   "execution_count": 40,
   "metadata": {},
   "outputs": [],
   "source": [
    "# compile\n",
    "nn.compile_model(loss=MSE(),\n",
    "                 optimizer=GradientDescent(eta=0.1))"
   ]
  },
  {
   "cell_type": "code",
   "execution_count": 41,
   "metadata": {},
   "outputs": [
    {
     "name": "stdout",
     "output_type": "stream",
     "text": [
      "Epoch 1/30, Loss: 17.49617580\n",
      "Epoch 2/30, Loss: 9.51340744\n",
      "Epoch 3/30, Loss: 5.28445687\n",
      "Epoch 4/30, Loss: 4.27189133\n",
      "Epoch 5/30, Loss: 3.88550408\n",
      "Epoch 6/30, Loss: 3.60859868\n",
      "Epoch 7/30, Loss: 3.47351190\n",
      "Epoch 8/30, Loss: 3.35209835\n",
      "Epoch 9/30, Loss: 3.30262077\n",
      "Epoch 10/30, Loss: 3.23057195\n",
      "Epoch 11/30, Loss: 3.15572595\n",
      "Epoch 12/30, Loss: 3.08027650\n",
      "Epoch 13/30, Loss: 3.04818926\n",
      "Epoch 14/30, Loss: 3.00344520\n",
      "Epoch 15/30, Loss: 2.96747970\n",
      "Epoch 16/30, Loss: 2.91810049\n",
      "Epoch 17/30, Loss: 2.87438202\n",
      "Epoch 18/30, Loss: 2.87129484\n",
      "Epoch 19/30, Loss: 2.84236382\n",
      "Epoch 20/30, Loss: 2.80800063\n",
      "Epoch 21/30, Loss: 2.80688327\n",
      "Epoch 22/30, Loss: 2.79252034\n",
      "Epoch 23/30, Loss: 2.77014455\n",
      "Epoch 24/30, Loss: 2.75491634\n",
      "Epoch 25/30, Loss: 2.75131864\n",
      "Epoch 26/30, Loss: 2.75552482\n",
      "Epoch 27/30, Loss: 2.72843725\n",
      "Epoch 28/30, Loss: 2.69389547\n",
      "Epoch 29/30, Loss: 2.70222444\n",
      "Epoch 30/30, Loss: 2.69522554\n"
     ]
    }
   ],
   "source": [
    "# training\n",
    "nn.fit(X=X, y=y, batch_size=32, epochs=30)"
   ]
  },
  {
   "cell_type": "code",
   "execution_count": null,
   "metadata": {},
   "outputs": [],
   "source": []
  },
  {
   "cell_type": "markdown",
   "metadata": {},
   "source": [
    "#### Metrics"
   ]
  },
  {
   "cell_type": "code",
   "execution_count": 52,
   "metadata": {},
   "outputs": [
    {
     "data": {
      "image/png": "[encoded data removed]",
      "text/plain": [
       "<Figure size 432x288 with 1 Axes>"
      ]
     },
     "metadata": {
      "needs_background": "light"
     },
     "output_type": "display_data"
    }
   ],
   "source": [
    "fig, ax = plt.subplots()\n",
    "\n",
    "loss_average = np.mean(np.reshape(nn.losses, (nn.epochs, -1)), axis=1)\n",
    "ax.plot(loss_average, c=\"k\", lw=2)\n",
    "\n",
    "ax.set_xlim(0, len(loss_average)-1)\n",
    "ax.set_xticks(range(1, len(loss_average)), range(1,len(loss_average)))\n",
    "\n",
    "ax.grid()\n",
    "plt.tight_layout()\n",
    "plt.show()"
   ]
  },
  {
   "cell_type": "code",
   "execution_count": null,
   "metadata": {},
   "outputs": [],
   "source": []
  },
  {
   "cell_type": "markdown",
   "metadata": {},
   "source": [
    "#### Predictions"
   ]
  },
  {
   "cell_type": "code",
   "execution_count": 49,
   "metadata": {},
   "outputs": [],
   "source": [
    "#pred\n",
    "n, i = 0, 150\n",
    "pred = nn.predict(X[n:n+i])"
   ]
  },
  {
   "cell_type": "code",
   "execution_count": 61,
   "metadata": {},
   "outputs": [
    {
     "data": {
      "image/png": "[encoded data removed]",
      "text/plain": [
       "<Figure size 504x504 with 1 Axes>"
      ]
     },
     "metadata": {
      "needs_background": "light"
     },
     "output_type": "display_data"
    }
   ],
   "source": [
    "fig, ax = plt.subplots(figsize=(7,7))\n",
    "\n",
    "# pred vs real\n",
    "ax.scatter(x=y[n:n+i],\n",
    "           y=pred[:,[0][0]],\n",
    "           s=50, c=\"r\", edgecolor='black')\n",
    "\n",
    "# y=x\n",
    "ax.plot(np.linspace(min(y[n:n+i]), max(y[n:n+i])),\n",
    "        np.linspace(min(y[n:n+i]), max(y[n:n+i])),\n",
    "        lw=2, c=\"k\", label=r\"$y_{real} = \\hat y$\")\n",
    "\n",
    "# custum\n",
    "ax.set_xlim(min(y[n:n+i]), max(y[n:n+i]))\n",
    "\n",
    "ax.set_xlabel(\"y (real)\", fontdict=font_leg)\n",
    "ax.set_ylabel(r\"$\\hat y$\", fontdict=font)\n",
    "plt.legend(frameon=False, ncol=3, prop=font_leg)\n",
    "ax.grid()\n",
    "plt.tight_layout()\n",
    "plt.show()"
   ]
  },
  {
   "cell_type": "code",
   "execution_count": null,
   "metadata": {},
   "outputs": [],
   "source": []
  }
 ],
 "metadata": {
  "kernelspec": {
   "display_name": "Python 3",
   "language": "python",
   "name": "python3"
  },
  "language_info": {
   "codemirror_mode": {
    "name": "ipython",
    "version": 3
   },
   "file_extension": ".py",
   "mimetype": "text/x-python",
   "name": "python",
   "nbconvert_exporter": "python",
   "pygments_lexer": "ipython3",
   "version": "3.10.12"
  }
 },
 "nbformat": 4,
 "nbformat_minor": 2
}
